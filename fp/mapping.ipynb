{
 "cells": [
  {
   "cell_type": "code",
   "execution_count": 1,
   "metadata": {},
   "outputs": [
    {
     "name": "stdout",
     "output_type": "stream",
     "text": [
      "1\n",
      "2\n",
      "3\n",
      "4\n",
      "5\n",
      "6\n"
     ]
    }
   ],
   "source": [
    "lst =[1,2,3,4,5,6]\n",
    "\n",
    "for i in lst:\n",
    "    print(i)\n",
    "    \n",
    "    "
   ]
  },
  {
   "cell_type": "code",
   "execution_count": 5,
   "metadata": {},
   "outputs": [
    {
     "data": {
      "text/plain": [
       "[5, 5, 5, 5, 5, 5]"
      ]
     },
     "execution_count": 5,
     "metadata": {},
     "output_type": "execute_result"
    }
   ],
   "source": [
    "lst =[1,2,3,4,5,6]\n",
    "val = 5\n",
    "[val for _ in range(len(lst))]"
   ]
  },
  {
   "cell_type": "code",
   "execution_count": 10,
   "metadata": {},
   "outputs": [
    {
     "name": "stdout",
     "output_type": "stream",
     "text": [
      "[4, 4, 4, 4, 4, 4]\n"
     ]
    }
   ],
   "source": [
    "from itertools import repeat\n",
    "lst =[1,2,3,4,5,6]\n",
    "const = 4\n",
    "def code(i):\n",
    "    return i*i\n",
    "\n",
    "def add_const(num:int, const_value:int) ->int:\n",
    "    return num + const_value\n",
    "# result=list(map(lambda x: const + x,lst))\n",
    "# const_lst = [const for _ in range(len(lst))]\n",
    "const_lst = list(repeat(const, len(lst)))\n",
    "# const_lst = repeat(const, len(lst))\n",
    "print(const_lst)\n",
    "# result=list(map(add_const,lst, const_lst))\n",
    "# print(result)\n"
   ]
  },
  {
   "cell_type": "code",
   "execution_count": 11,
   "metadata": {},
   "outputs": [
    {
     "name": "stdout",
     "output_type": "stream",
     "text": [
      "[5, 6, 7, 8, 9, 10]\n"
     ]
    }
   ],
   "source": [
    "from itertools import repeat\n",
    "lst =[1,2,3,4,5,6]\n",
    "const = 4\n",
    "def code(i):\n",
    "    return i*i\n",
    "\n",
    "def add_const(num:int, const_value:int) ->int:\n",
    "    return num + const_value\n",
    "# result=list(map(lambda x: const + x,lst))\n",
    "# const_lst = [const for _ in range(len(lst))]\n",
    "const_lst = repeat(const, len(lst))\n",
    "# print(const_lst)\n",
    "# result=list(map(add_const, lst, const_lst))\n",
    "result=list(map(lambda x, y: x + y, lst, const_lst))\n",
    "print(result)\n"
   ]
  },
  {
   "cell_type": "code",
   "execution_count": null,
   "metadata": {},
   "outputs": [],
   "source": []
  }
 ],
 "metadata": {
  "kernelspec": {
   "display_name": "Python 3",
   "language": "python",
   "name": "python3"
  },
  "language_info": {
   "codemirror_mode": {
    "name": "ipython",
    "version": 3
   },
   "file_extension": ".py",
   "mimetype": "text/x-python",
   "name": "python",
   "nbconvert_exporter": "python",
   "pygments_lexer": "ipython3",
   "version": "3.10.3"
  },
  "orig_nbformat": 4,
  "vscode": {
   "interpreter": {
    "hash": "8623fc34dcfe08828ec33f8038771493d0cacb3b502654ed72709e143888f83b"
   }
  }
 },
 "nbformat": 4,
 "nbformat_minor": 2
}
